{
 "cells": [
  {
   "cell_type": "markdown",
   "metadata": {},
   "source": [
    "Secure Data Vault (SDV)\n",
    "==========\n",
    "\n",
    "This notebook is used to test drive [**SDV**](https://docs.sdv.dev/sdv), an open source library from MIT for generating synthetic data.\n",
    "\n",
    "Data Set\n",
    "------------------\n",
    "\n",
    "[Lending Club loan data set](https://www.kaggle.com/wordsforthewise/lending-club).  I like this data set due to its size and high dimensionality.  The data inside is also pretty raw with many columns containing null values which provides us an opportunity to do some data prep/cleansing - just like in any real-world situation.\n",
    "\n",
    "Many of SDV's models are computationally intensive and will overwhelm most general-purpose VM instances (e.g. Azure's Dv4-series).  I've created a utility called [randomSampler.py](./randomSampler.py) to help reduce the data set to a more manageable size for your personal equipment."
   ]
  },
  {
   "cell_type": "code",
   "execution_count": 1,
   "metadata": {},
   "outputs": [],
   "source": [
    "import matplotlib.pyplot as plt\n",
    "import numpy as np\n",
    "import pandas as pd\n",
    "import seaborn as sns"
   ]
  },
  {
   "cell_type": "markdown",
   "metadata": {},
   "source": [
    "## Load and prep data set"
   ]
  },
  {
   "cell_type": "code",
   "execution_count": 2,
   "metadata": {
    "attributes": {
     "classes": [
      ""
     ],
     "id": ""
    }
   },
   "outputs": [
    {
     "data": {
      "text/plain": [
       "(1000, 151)"
      ]
     },
     "execution_count": 2,
     "metadata": {},
     "output_type": "execute_result"
    }
   ],
   "source": [
    "original_df = pd.read_csv('data/1000_accepted_samples.csv', low_memory=False)\n",
    "original_df.shape"
   ]
  },
  {
   "cell_type": "markdown",
   "metadata": {},
   "source": [
    "Create a copy of the original dataframe.  We'll play with the copy to avoid having to reload the original dataset from disk later.\n"
   ]
  },
  {
   "cell_type": "code",
   "execution_count": 3,
   "metadata": {
    "attributes": {
     "classes": [
      ""
     ],
     "id": ""
    }
   },
   "outputs": [
    {
     "data": {
      "text/html": [
       "<div>\n",
       "<style scoped>\n",
       "    .dataframe tbody tr th:only-of-type {\n",
       "        vertical-align: middle;\n",
       "    }\n",
       "\n",
       "    .dataframe tbody tr th {\n",
       "        vertical-align: top;\n",
       "    }\n",
       "\n",
       "    .dataframe thead th {\n",
       "        text-align: right;\n",
       "    }\n",
       "</style>\n",
       "<table border=\"1\" class=\"dataframe\">\n",
       "  <thead>\n",
       "    <tr style=\"text-align: right;\">\n",
       "      <th></th>\n",
       "      <th>id</th>\n",
       "      <th>member_id</th>\n",
       "      <th>loan_amnt</th>\n",
       "      <th>funded_amnt</th>\n",
       "      <th>funded_amnt_inv</th>\n",
       "      <th>term</th>\n",
       "      <th>int_rate</th>\n",
       "      <th>installment</th>\n",
       "      <th>grade</th>\n",
       "      <th>sub_grade</th>\n",
       "      <th>...</th>\n",
       "      <th>hardship_payoff_balance_amount</th>\n",
       "      <th>hardship_last_payment_amount</th>\n",
       "      <th>disbursement_method</th>\n",
       "      <th>debt_settlement_flag</th>\n",
       "      <th>debt_settlement_flag_date</th>\n",
       "      <th>settlement_status</th>\n",
       "      <th>settlement_date</th>\n",
       "      <th>settlement_amount</th>\n",
       "      <th>settlement_percentage</th>\n",
       "      <th>settlement_term</th>\n",
       "    </tr>\n",
       "  </thead>\n",
       "  <tbody>\n",
       "    <tr>\n",
       "      <th>0</th>\n",
       "      <td>68072182</td>\n",
       "      <td>NaN</td>\n",
       "      <td>22900.0</td>\n",
       "      <td>22900.0</td>\n",
       "      <td>22900.0</td>\n",
       "      <td>60 months</td>\n",
       "      <td>16.59</td>\n",
       "      <td>564.09</td>\n",
       "      <td>D</td>\n",
       "      <td>D2</td>\n",
       "      <td>...</td>\n",
       "      <td>NaN</td>\n",
       "      <td>NaN</td>\n",
       "      <td>Cash</td>\n",
       "      <td>N</td>\n",
       "      <td>NaN</td>\n",
       "      <td>NaN</td>\n",
       "      <td>NaN</td>\n",
       "      <td>NaN</td>\n",
       "      <td>NaN</td>\n",
       "      <td>NaN</td>\n",
       "    </tr>\n",
       "    <tr>\n",
       "      <th>1</th>\n",
       "      <td>67838439</td>\n",
       "      <td>NaN</td>\n",
       "      <td>35000.0</td>\n",
       "      <td>35000.0</td>\n",
       "      <td>35000.0</td>\n",
       "      <td>36 months</td>\n",
       "      <td>12.59</td>\n",
       "      <td>1172.39</td>\n",
       "      <td>C</td>\n",
       "      <td>C2</td>\n",
       "      <td>...</td>\n",
       "      <td>NaN</td>\n",
       "      <td>NaN</td>\n",
       "      <td>Cash</td>\n",
       "      <td>N</td>\n",
       "      <td>NaN</td>\n",
       "      <td>NaN</td>\n",
       "      <td>NaN</td>\n",
       "      <td>NaN</td>\n",
       "      <td>NaN</td>\n",
       "      <td>NaN</td>\n",
       "    </tr>\n",
       "    <tr>\n",
       "      <th>2</th>\n",
       "      <td>67988290</td>\n",
       "      <td>NaN</td>\n",
       "      <td>30000.0</td>\n",
       "      <td>30000.0</td>\n",
       "      <td>30000.0</td>\n",
       "      <td>36 months</td>\n",
       "      <td>13.67</td>\n",
       "      <td>1020.53</td>\n",
       "      <td>C</td>\n",
       "      <td>C4</td>\n",
       "      <td>...</td>\n",
       "      <td>NaN</td>\n",
       "      <td>NaN</td>\n",
       "      <td>Cash</td>\n",
       "      <td>N</td>\n",
       "      <td>NaN</td>\n",
       "      <td>NaN</td>\n",
       "      <td>NaN</td>\n",
       "      <td>NaN</td>\n",
       "      <td>NaN</td>\n",
       "      <td>NaN</td>\n",
       "    </tr>\n",
       "    <tr>\n",
       "      <th>3</th>\n",
       "      <td>67735877</td>\n",
       "      <td>NaN</td>\n",
       "      <td>6000.0</td>\n",
       "      <td>6000.0</td>\n",
       "      <td>6000.0</td>\n",
       "      <td>36 months</td>\n",
       "      <td>11.99</td>\n",
       "      <td>199.26</td>\n",
       "      <td>C</td>\n",
       "      <td>C1</td>\n",
       "      <td>...</td>\n",
       "      <td>NaN</td>\n",
       "      <td>NaN</td>\n",
       "      <td>Cash</td>\n",
       "      <td>N</td>\n",
       "      <td>NaN</td>\n",
       "      <td>NaN</td>\n",
       "      <td>NaN</td>\n",
       "      <td>NaN</td>\n",
       "      <td>NaN</td>\n",
       "      <td>NaN</td>\n",
       "    </tr>\n",
       "    <tr>\n",
       "      <th>4</th>\n",
       "      <td>67735862</td>\n",
       "      <td>NaN</td>\n",
       "      <td>16450.0</td>\n",
       "      <td>16450.0</td>\n",
       "      <td>16300.0</td>\n",
       "      <td>60 months</td>\n",
       "      <td>24.99</td>\n",
       "      <td>482.74</td>\n",
       "      <td>F</td>\n",
       "      <td>F4</td>\n",
       "      <td>...</td>\n",
       "      <td>NaN</td>\n",
       "      <td>NaN</td>\n",
       "      <td>Cash</td>\n",
       "      <td>N</td>\n",
       "      <td>NaN</td>\n",
       "      <td>NaN</td>\n",
       "      <td>NaN</td>\n",
       "      <td>NaN</td>\n",
       "      <td>NaN</td>\n",
       "      <td>NaN</td>\n",
       "    </tr>\n",
       "  </tbody>\n",
       "</table>\n",
       "<p>5 rows × 151 columns</p>\n",
       "</div>"
      ],
      "text/plain": [
       "         id  member_id  loan_amnt  funded_amnt  funded_amnt_inv        term  \\\n",
       "0  68072182        NaN    22900.0      22900.0          22900.0   60 months   \n",
       "1  67838439        NaN    35000.0      35000.0          35000.0   36 months   \n",
       "2  67988290        NaN    30000.0      30000.0          30000.0   36 months   \n",
       "3  67735877        NaN     6000.0       6000.0           6000.0   36 months   \n",
       "4  67735862        NaN    16450.0      16450.0          16300.0   60 months   \n",
       "\n",
       "   int_rate  installment grade sub_grade  ... hardship_payoff_balance_amount  \\\n",
       "0     16.59       564.09     D        D2  ...                            NaN   \n",
       "1     12.59      1172.39     C        C2  ...                            NaN   \n",
       "2     13.67      1020.53     C        C4  ...                            NaN   \n",
       "3     11.99       199.26     C        C1  ...                            NaN   \n",
       "4     24.99       482.74     F        F4  ...                            NaN   \n",
       "\n",
       "  hardship_last_payment_amount disbursement_method  debt_settlement_flag  \\\n",
       "0                          NaN                Cash                     N   \n",
       "1                          NaN                Cash                     N   \n",
       "2                          NaN                Cash                     N   \n",
       "3                          NaN                Cash                     N   \n",
       "4                          NaN                Cash                     N   \n",
       "\n",
       "  debt_settlement_flag_date settlement_status settlement_date  \\\n",
       "0                       NaN               NaN             NaN   \n",
       "1                       NaN               NaN             NaN   \n",
       "2                       NaN               NaN             NaN   \n",
       "3                       NaN               NaN             NaN   \n",
       "4                       NaN               NaN             NaN   \n",
       "\n",
       "  settlement_amount settlement_percentage settlement_term  \n",
       "0               NaN                   NaN             NaN  \n",
       "1               NaN                   NaN             NaN  \n",
       "2               NaN                   NaN             NaN  \n",
       "3               NaN                   NaN             NaN  \n",
       "4               NaN                   NaN             NaN  \n",
       "\n",
       "[5 rows x 151 columns]"
      ]
     },
     "execution_count": 3,
     "metadata": {},
     "output_type": "execute_result"
    }
   ],
   "source": [
    "df = original_df.copy(deep=True)\n",
    "df.head()"
   ]
  },
  {
   "cell_type": "markdown",
   "metadata": {},
   "source": [
    "Description for some of the columns can be found at https://www.rubydoc.info/gems/lending_club/0.0.2/LendingClub/Loan."
   ]
  },
  {
   "cell_type": "markdown",
   "metadata": {},
   "source": [
    "### Determine if there are opportunities to reduce dimensionality\n",
    "Let's first see if there are any columns with missing values."
   ]
  },
  {
   "cell_type": "code",
   "execution_count": 5,
   "metadata": {},
   "outputs": [
    {
     "data": {
      "text/html": [
       "<div>\n",
       "<style scoped>\n",
       "    .dataframe tbody tr th:only-of-type {\n",
       "        vertical-align: middle;\n",
       "    }\n",
       "\n",
       "    .dataframe tbody tr th {\n",
       "        vertical-align: top;\n",
       "    }\n",
       "\n",
       "    .dataframe thead th {\n",
       "        text-align: right;\n",
       "    }\n",
       "</style>\n",
       "<table border=\"1\" class=\"dataframe\">\n",
       "  <thead>\n",
       "    <tr style=\"text-align: right;\">\n",
       "      <th></th>\n",
       "      <th>% Empty</th>\n",
       "      <th>Count</th>\n",
       "    </tr>\n",
       "  </thead>\n",
       "  <tbody>\n",
       "    <tr>\n",
       "      <th>member_id</th>\n",
       "      <td>100.0</td>\n",
       "      <td>1000</td>\n",
       "    </tr>\n",
       "    <tr>\n",
       "      <th>orig_projected_additional_accrued_interest</th>\n",
       "      <td>99.8</td>\n",
       "      <td>998</td>\n",
       "    </tr>\n",
       "    <tr>\n",
       "      <th>hardship_dpd</th>\n",
       "      <td>99.7</td>\n",
       "      <td>997</td>\n",
       "    </tr>\n",
       "    <tr>\n",
       "      <th>hardship_reason</th>\n",
       "      <td>99.7</td>\n",
       "      <td>997</td>\n",
       "    </tr>\n",
       "    <tr>\n",
       "      <th>hardship_status</th>\n",
       "      <td>99.7</td>\n",
       "      <td>997</td>\n",
       "    </tr>\n",
       "    <tr>\n",
       "      <th>...</th>\n",
       "      <td>...</td>\n",
       "      <td>...</td>\n",
       "    </tr>\n",
       "    <tr>\n",
       "      <th>total_bal_ex_mort</th>\n",
       "      <td>2.5</td>\n",
       "      <td>25</td>\n",
       "    </tr>\n",
       "    <tr>\n",
       "      <th>title</th>\n",
       "      <td>1.2</td>\n",
       "      <td>12</td>\n",
       "    </tr>\n",
       "    <tr>\n",
       "      <th>revol_util</th>\n",
       "      <td>0.2</td>\n",
       "      <td>2</td>\n",
       "    </tr>\n",
       "    <tr>\n",
       "      <th>last_pymnt_d</th>\n",
       "      <td>0.1</td>\n",
       "      <td>1</td>\n",
       "    </tr>\n",
       "    <tr>\n",
       "      <th>pub_rec_bankruptcies</th>\n",
       "      <td>0.1</td>\n",
       "      <td>1</td>\n",
       "    </tr>\n",
       "  </tbody>\n",
       "</table>\n",
       "<p>98 rows × 2 columns</p>\n",
       "</div>"
      ],
      "text/plain": [
       "                                            % Empty  Count\n",
       "member_id                                     100.0   1000\n",
       "orig_projected_additional_accrued_interest     99.8    998\n",
       "hardship_dpd                                   99.7    997\n",
       "hardship_reason                                99.7    997\n",
       "hardship_status                                99.7    997\n",
       "...                                             ...    ...\n",
       "total_bal_ex_mort                               2.5     25\n",
       "title                                           1.2     12\n",
       "revol_util                                      0.2      2\n",
       "last_pymnt_d                                    0.1      1\n",
       "pub_rec_bankruptcies                            0.1      1\n",
       "\n",
       "[98 rows x 2 columns]"
      ]
     },
     "execution_count": 5,
     "metadata": {},
     "output_type": "execute_result"
    }
   ],
   "source": [
    "# Find the count and percentage of missing values\n",
    "df_columns_na = pd.DataFrame({\n",
    "    '% Empty': 100*df.isnull().sum()/len(df), \n",
    "    'Count': df.isnull().sum()\n",
    "    })\n",
    "\n",
    "# Determine columns with null count > 0\n",
    "df_columns_na_sorted = df_columns_na[df_columns_na['Count'] > 0].sort_values('% Empty', ascending=False)\n",
    "df_columns_na_sorted"
   ]
  },
  {
   "cell_type": "code",
   "execution_count": 6,
   "metadata": {},
   "outputs": [
    {
     "name": "stdout",
     "output_type": "stream",
     "text": [
      "Data set has 151 columns.\n",
      "Of which, 98 have missing values.\n"
     ]
    }
   ],
   "source": [
    "df_columns_na_sorted.head()\n",
    "print(\"Data set has \" + str(df.shape[1]) + \" columns.\\n\" +\n",
    "    \"Of which, \" + str(df_columns_na_sorted.shape[0]) + \" have missing values.\")"
   ]
  },
  {
   "cell_type": "code",
   "execution_count": 7,
   "metadata": {},
   "outputs": [
    {
     "data": {
      "text/html": [
       "<div>\n",
       "<style scoped>\n",
       "    .dataframe tbody tr th:only-of-type {\n",
       "        vertical-align: middle;\n",
       "    }\n",
       "\n",
       "    .dataframe tbody tr th {\n",
       "        vertical-align: top;\n",
       "    }\n",
       "\n",
       "    .dataframe thead th {\n",
       "        text-align: right;\n",
       "    }\n",
       "</style>\n",
       "<table border=\"1\" class=\"dataframe\">\n",
       "  <thead>\n",
       "    <tr style=\"text-align: right;\">\n",
       "      <th></th>\n",
       "      <th>id</th>\n",
       "      <th>loan_amnt</th>\n",
       "      <th>funded_amnt</th>\n",
       "      <th>funded_amnt_inv</th>\n",
       "      <th>term</th>\n",
       "      <th>int_rate</th>\n",
       "      <th>installment</th>\n",
       "      <th>grade</th>\n",
       "      <th>sub_grade</th>\n",
       "      <th>emp_title</th>\n",
       "      <th>...</th>\n",
       "      <th>percent_bc_gt_75</th>\n",
       "      <th>pub_rec_bankruptcies</th>\n",
       "      <th>tax_liens</th>\n",
       "      <th>tot_hi_cred_lim</th>\n",
       "      <th>total_bal_ex_mort</th>\n",
       "      <th>total_bc_limit</th>\n",
       "      <th>total_il_high_credit_limit</th>\n",
       "      <th>hardship_flag</th>\n",
       "      <th>disbursement_method</th>\n",
       "      <th>debt_settlement_flag</th>\n",
       "    </tr>\n",
       "  </thead>\n",
       "  <tbody>\n",
       "    <tr>\n",
       "      <th>0</th>\n",
       "      <td>68072182</td>\n",
       "      <td>22900.0</td>\n",
       "      <td>22900.0</td>\n",
       "      <td>22900.0</td>\n",
       "      <td>60 months</td>\n",
       "      <td>16.59</td>\n",
       "      <td>564.09</td>\n",
       "      <td>D</td>\n",
       "      <td>D2</td>\n",
       "      <td>Director Accounting Policy</td>\n",
       "      <td>...</td>\n",
       "      <td>75.0</td>\n",
       "      <td>0.0</td>\n",
       "      <td>0.0</td>\n",
       "      <td>69800.0</td>\n",
       "      <td>56778.0</td>\n",
       "      <td>33600.0</td>\n",
       "      <td>35000.0</td>\n",
       "      <td>N</td>\n",
       "      <td>Cash</td>\n",
       "      <td>N</td>\n",
       "    </tr>\n",
       "    <tr>\n",
       "      <th>1</th>\n",
       "      <td>67838439</td>\n",
       "      <td>35000.0</td>\n",
       "      <td>35000.0</td>\n",
       "      <td>35000.0</td>\n",
       "      <td>36 months</td>\n",
       "      <td>12.59</td>\n",
       "      <td>1172.39</td>\n",
       "      <td>C</td>\n",
       "      <td>C2</td>\n",
       "      <td>Clinical Manager</td>\n",
       "      <td>...</td>\n",
       "      <td>28.6</td>\n",
       "      <td>0.0</td>\n",
       "      <td>0.0</td>\n",
       "      <td>444838.0</td>\n",
       "      <td>102508.0</td>\n",
       "      <td>56600.0</td>\n",
       "      <td>63930.0</td>\n",
       "      <td>N</td>\n",
       "      <td>Cash</td>\n",
       "      <td>N</td>\n",
       "    </tr>\n",
       "    <tr>\n",
       "      <th>2</th>\n",
       "      <td>67988290</td>\n",
       "      <td>30000.0</td>\n",
       "      <td>30000.0</td>\n",
       "      <td>30000.0</td>\n",
       "      <td>36 months</td>\n",
       "      <td>13.67</td>\n",
       "      <td>1020.53</td>\n",
       "      <td>C</td>\n",
       "      <td>C4</td>\n",
       "      <td>Informatica</td>\n",
       "      <td>...</td>\n",
       "      <td>100.0</td>\n",
       "      <td>0.0</td>\n",
       "      <td>0.0</td>\n",
       "      <td>264678.0</td>\n",
       "      <td>51569.0</td>\n",
       "      <td>9000.0</td>\n",
       "      <td>47620.0</td>\n",
       "      <td>N</td>\n",
       "      <td>Cash</td>\n",
       "      <td>N</td>\n",
       "    </tr>\n",
       "    <tr>\n",
       "      <th>3</th>\n",
       "      <td>67735877</td>\n",
       "      <td>6000.0</td>\n",
       "      <td>6000.0</td>\n",
       "      <td>6000.0</td>\n",
       "      <td>36 months</td>\n",
       "      <td>11.99</td>\n",
       "      <td>199.26</td>\n",
       "      <td>C</td>\n",
       "      <td>C1</td>\n",
       "      <td>Head of Human Resources</td>\n",
       "      <td>...</td>\n",
       "      <td>0.0</td>\n",
       "      <td>0.0</td>\n",
       "      <td>0.0</td>\n",
       "      <td>245839.0</td>\n",
       "      <td>40179.0</td>\n",
       "      <td>8500.0</td>\n",
       "      <td>36826.0</td>\n",
       "      <td>N</td>\n",
       "      <td>Cash</td>\n",
       "      <td>N</td>\n",
       "    </tr>\n",
       "    <tr>\n",
       "      <th>4</th>\n",
       "      <td>67735862</td>\n",
       "      <td>16450.0</td>\n",
       "      <td>16450.0</td>\n",
       "      <td>16300.0</td>\n",
       "      <td>60 months</td>\n",
       "      <td>24.99</td>\n",
       "      <td>482.74</td>\n",
       "      <td>F</td>\n",
       "      <td>F4</td>\n",
       "      <td>driver / video photo</td>\n",
       "      <td>...</td>\n",
       "      <td>100.0</td>\n",
       "      <td>0.0</td>\n",
       "      <td>0.0</td>\n",
       "      <td>64735.0</td>\n",
       "      <td>52838.0</td>\n",
       "      <td>4800.0</td>\n",
       "      <td>59635.0</td>\n",
       "      <td>N</td>\n",
       "      <td>Cash</td>\n",
       "      <td>N</td>\n",
       "    </tr>\n",
       "  </tbody>\n",
       "</table>\n",
       "<p>5 rows × 93 columns</p>\n",
       "</div>"
      ],
      "text/plain": [
       "         id  loan_amnt  funded_amnt  funded_amnt_inv        term  int_rate  \\\n",
       "0  68072182    22900.0      22900.0          22900.0   60 months     16.59   \n",
       "1  67838439    35000.0      35000.0          35000.0   36 months     12.59   \n",
       "2  67988290    30000.0      30000.0          30000.0   36 months     13.67   \n",
       "3  67735877     6000.0       6000.0           6000.0   36 months     11.99   \n",
       "4  67735862    16450.0      16450.0          16300.0   60 months     24.99   \n",
       "\n",
       "   installment grade sub_grade                   emp_title  ...  \\\n",
       "0       564.09     D        D2  Director Accounting Policy  ...   \n",
       "1      1172.39     C        C2            Clinical Manager  ...   \n",
       "2      1020.53     C        C4                Informatica   ...   \n",
       "3       199.26     C        C1    Head of Human Resources   ...   \n",
       "4       482.74     F        F4       driver / video photo   ...   \n",
       "\n",
       "  percent_bc_gt_75 pub_rec_bankruptcies  tax_liens tot_hi_cred_lim  \\\n",
       "0             75.0                  0.0        0.0         69800.0   \n",
       "1             28.6                  0.0        0.0        444838.0   \n",
       "2            100.0                  0.0        0.0        264678.0   \n",
       "3              0.0                  0.0        0.0        245839.0   \n",
       "4            100.0                  0.0        0.0         64735.0   \n",
       "\n",
       "  total_bal_ex_mort total_bc_limit total_il_high_credit_limit hardship_flag  \\\n",
       "0           56778.0        33600.0                    35000.0             N   \n",
       "1          102508.0        56600.0                    63930.0             N   \n",
       "2           51569.0         9000.0                    47620.0             N   \n",
       "3           40179.0         8500.0                    36826.0             N   \n",
       "4           52838.0         4800.0                    59635.0             N   \n",
       "\n",
       "  disbursement_method debt_settlement_flag  \n",
       "0                Cash                    N  \n",
       "1                Cash                    N  \n",
       "2                Cash                    N  \n",
       "3                Cash                    N  \n",
       "4                Cash                    N  \n",
       "\n",
       "[5 rows x 93 columns]"
      ]
     },
     "execution_count": 7,
     "metadata": {},
     "output_type": "execute_result"
    }
   ],
   "source": [
    "# Drop columns with a certain threshold of missing values\n",
    "threshold = 75 # % threshold\n",
    "df.dropna(axis='columns', thresh=int(threshold/100*len(df)), inplace=True)\n",
    "df.head()"
   ]
  },
  {
   "cell_type": "markdown",
   "metadata": {},
   "source": [
    "### Distribution of data types"
   ]
  },
  {
   "cell_type": "code",
   "execution_count": 8,
   "metadata": {},
   "outputs": [
    {
     "data": {
      "text/plain": [
       "Text(0, 0.5, 'Data type')"
      ]
     },
     "execution_count": 8,
     "metadata": {},
     "output_type": "execute_result"
    },
    {
     "data": {
      "image/png": "[encoded data removed]",
      "text/plain": [
       "<Figure size 640x480 with 1 Axes>"
      ]
     },
     "metadata": {},
     "output_type": "display_data"
    }
   ],
   "source": [
    "# Number of each type of column\n",
    "df.dtypes.value_counts().sort_values().plot(kind='barh')\n",
    "plt.xlabel('# of columns',fontsize=15)\n",
    "plt.ylabel('Data type',fontsize=15)"
   ]
  },
  {
   "cell_type": "code",
   "execution_count": 9,
   "metadata": {},
   "outputs": [
    {
     "data": {
      "text/plain": [
       "term                       2\n",
       "grade                      7\n",
       "sub_grade                 35\n",
       "emp_title                751\n",
       "emp_length                11\n",
       "home_ownership             3\n",
       "verification_status        3\n",
       "issue_d                  102\n",
       "loan_status                8\n",
       "pymnt_plan                 1\n",
       "url                     1000\n",
       "purpose                   13\n",
       "title                     99\n",
       "zip_code                 423\n",
       "addr_state                48\n",
       "earliest_cr_line         348\n",
       "initial_list_status        2\n",
       "last_pymnt_d              80\n",
       "last_credit_pull_d        56\n",
       "application_type           2\n",
       "hardship_flag              1\n",
       "disbursement_method        2\n",
       "debt_settlement_flag       2\n",
       "dtype: int64"
      ]
     },
     "execution_count": 9,
     "metadata": {},
     "output_type": "execute_result"
    }
   ],
   "source": [
    "# Check amount of categorical data for columns with object datatype\n",
    "df.select_dtypes('object').apply(pd.Series.nunique, axis = 0)"
   ]
  },
  {
   "cell_type": "code",
   "execution_count": 10,
   "metadata": {},
   "outputs": [
    {
     "data": {
      "text/plain": [
       "array(['credit_card', 'debt_consolidation', 'home_improvement', 'medical',\n",
       "       'house', 'small_business', 'other', 'major_purchase', 'car',\n",
       "       'moving', 'vacation', 'renewable_energy', 'wedding'], dtype=object)"
      ]
     },
     "execution_count": 10,
     "metadata": {},
     "output_type": "execute_result"
    }
   ],
   "source": [
    "# Inspect a few columns\n",
    "\n",
    "df['purpose'].unique()\n",
    "#df['grade'].unique()\n",
    "#df['sub_grade'].unique()\n",
    "#df['last_credit_pull_d'].unique()\n",
    "#df['term'].unique()"
   ]
  },
  {
   "cell_type": "code",
   "execution_count": 11,
   "metadata": {},
   "outputs": [
    {
     "data": {
      "text/plain": [
       "array(['3', '10', '1', '5', 0, '8', '4', '9', '2', '7', '6'], dtype=object)"
      ]
     },
     "execution_count": 11,
     "metadata": {},
     "output_type": "execute_result"
    }
   ],
   "source": [
    "# Recode emp_length column: fill empty fields with 0, remove any text, 10+ yrs gets coded as 10.\n",
    "df['emp_length'].fillna(value=0,inplace=True)\n",
    "df['emp_length'].replace(to_replace='[^0-9]+', value='', regex=True, inplace=True)\n",
    "\n",
    "df['emp_length'].unique()"
   ]
  },
  {
   "cell_type": "code",
   "execution_count": 12,
   "metadata": {},
   "outputs": [
    {
     "data": {
      "text/plain": [
       "Text(0, 0.5, '# of loans')"
      ]
     },
     "execution_count": 12,
     "metadata": {},
     "output_type": "execute_result"
    },
    {
     "data": {
      "image/png": "[encoded data removed]",
      "text/plain": [
       "<Figure size 640x480 with 1 Axes>"
      ]
     },
     "metadata": {},
     "output_type": "display_data"
    }
   ],
   "source": [
    "# plot length of employment against number of loans\n",
    "df['emp_length'].value_counts().sort_values().plot(kind='bar')\n",
    "plt.xlabel('Years worked',fontsize=15)\n",
    "plt.ylabel('# of loans',fontsize=15)"
   ]
  },
  {
   "cell_type": "code",
   "execution_count": 13,
   "metadata": {},
   "outputs": [
    {
     "data": {
      "text/plain": [
       "array(['60 ', '36 '], dtype=object)"
      ]
     },
     "execution_count": 13,
     "metadata": {},
     "output_type": "execute_result"
    }
   ],
   "source": [
    "# Remove string characters in 'term' column\n",
    "df['term'] = df['term'].map(lambda x: x.lstrip(' ').rstrip('months'))\n",
    "\n",
    "df['term'].unique()"
   ]
  },
  {
   "cell_type": "code",
   "execution_count": 14,
   "metadata": {},
   "outputs": [
    {
     "name": "stderr",
     "output_type": "stream",
     "text": [
      "/var/folders/k_/ljqnpgh17lj6lhcnbyz0g_fh0000gp/T/ipykernel_37594/3180410483.py:2: FutureWarning: The default value of regex will change from True to False in a future version.\n",
      "  df['zip_code'] = df['zip_code'].str.replace(r'\\D', '')\n"
     ]
    }
   ],
   "source": [
    "# Remove string characters in 'zipcode' column\n",
    "df['zip_code'] = df['zip_code'].str.replace(r'\\D', '')"
   ]
  },
  {
   "cell_type": "code",
   "execution_count": 15,
   "metadata": {},
   "outputs": [],
   "source": [
    "# Change datatypes to INTs in the following columns\n",
    "df.term = df.term.astype(\"int64\") \n",
    "df.emp_length = df.emp_length.astype(\"int64\") \n",
    "#df.zip_code = df.zip_code.astype(\"int64\")"
   ]
  },
  {
   "cell_type": "code",
   "execution_count": 16,
   "metadata": {},
   "outputs": [
    {
     "data": {
      "text/html": [
       "<div>\n",
       "<style scoped>\n",
       "    .dataframe tbody tr th:only-of-type {\n",
       "        vertical-align: middle;\n",
       "    }\n",
       "\n",
       "    .dataframe tbody tr th {\n",
       "        vertical-align: top;\n",
       "    }\n",
       "\n",
       "    .dataframe thead th {\n",
       "        text-align: right;\n",
       "    }\n",
       "</style>\n",
       "<table border=\"1\" class=\"dataframe\">\n",
       "  <thead>\n",
       "    <tr style=\"text-align: right;\">\n",
       "      <th></th>\n",
       "      <th>id</th>\n",
       "      <th>loan_amnt</th>\n",
       "      <th>funded_amnt</th>\n",
       "      <th>funded_amnt_inv</th>\n",
       "      <th>term</th>\n",
       "      <th>int_rate</th>\n",
       "      <th>installment</th>\n",
       "      <th>grade</th>\n",
       "      <th>sub_grade</th>\n",
       "      <th>emp_title</th>\n",
       "      <th>...</th>\n",
       "      <th>percent_bc_gt_75</th>\n",
       "      <th>pub_rec_bankruptcies</th>\n",
       "      <th>tax_liens</th>\n",
       "      <th>tot_hi_cred_lim</th>\n",
       "      <th>total_bal_ex_mort</th>\n",
       "      <th>total_bc_limit</th>\n",
       "      <th>total_il_high_credit_limit</th>\n",
       "      <th>hardship_flag</th>\n",
       "      <th>disbursement_method</th>\n",
       "      <th>debt_settlement_flag</th>\n",
       "    </tr>\n",
       "  </thead>\n",
       "  <tbody>\n",
       "    <tr>\n",
       "      <th>0</th>\n",
       "      <td>68072182</td>\n",
       "      <td>22900.0</td>\n",
       "      <td>22900.0</td>\n",
       "      <td>22900.0</td>\n",
       "      <td>60</td>\n",
       "      <td>16.59</td>\n",
       "      <td>564.09</td>\n",
       "      <td>D</td>\n",
       "      <td>D2</td>\n",
       "      <td>Director Accounting Policy</td>\n",
       "      <td>...</td>\n",
       "      <td>75.0</td>\n",
       "      <td>0.0</td>\n",
       "      <td>0.0</td>\n",
       "      <td>69800.0</td>\n",
       "      <td>56778.0</td>\n",
       "      <td>33600.0</td>\n",
       "      <td>35000.0</td>\n",
       "      <td>N</td>\n",
       "      <td>Cash</td>\n",
       "      <td>N</td>\n",
       "    </tr>\n",
       "    <tr>\n",
       "      <th>1</th>\n",
       "      <td>67838439</td>\n",
       "      <td>35000.0</td>\n",
       "      <td>35000.0</td>\n",
       "      <td>35000.0</td>\n",
       "      <td>36</td>\n",
       "      <td>12.59</td>\n",
       "      <td>1172.39</td>\n",
       "      <td>C</td>\n",
       "      <td>C2</td>\n",
       "      <td>Clinical Manager</td>\n",
       "      <td>...</td>\n",
       "      <td>28.6</td>\n",
       "      <td>0.0</td>\n",
       "      <td>0.0</td>\n",
       "      <td>444838.0</td>\n",
       "      <td>102508.0</td>\n",
       "      <td>56600.0</td>\n",
       "      <td>63930.0</td>\n",
       "      <td>N</td>\n",
       "      <td>Cash</td>\n",
       "      <td>N</td>\n",
       "    </tr>\n",
       "    <tr>\n",
       "      <th>2</th>\n",
       "      <td>67988290</td>\n",
       "      <td>30000.0</td>\n",
       "      <td>30000.0</td>\n",
       "      <td>30000.0</td>\n",
       "      <td>36</td>\n",
       "      <td>13.67</td>\n",
       "      <td>1020.53</td>\n",
       "      <td>C</td>\n",
       "      <td>C4</td>\n",
       "      <td>Informatica</td>\n",
       "      <td>...</td>\n",
       "      <td>100.0</td>\n",
       "      <td>0.0</td>\n",
       "      <td>0.0</td>\n",
       "      <td>264678.0</td>\n",
       "      <td>51569.0</td>\n",
       "      <td>9000.0</td>\n",
       "      <td>47620.0</td>\n",
       "      <td>N</td>\n",
       "      <td>Cash</td>\n",
       "      <td>N</td>\n",
       "    </tr>\n",
       "    <tr>\n",
       "      <th>3</th>\n",
       "      <td>67735877</td>\n",
       "      <td>6000.0</td>\n",
       "      <td>6000.0</td>\n",
       "      <td>6000.0</td>\n",
       "      <td>36</td>\n",
       "      <td>11.99</td>\n",
       "      <td>199.26</td>\n",
       "      <td>C</td>\n",
       "      <td>C1</td>\n",
       "      <td>Head of Human Resources</td>\n",
       "      <td>...</td>\n",
       "      <td>0.0</td>\n",
       "      <td>0.0</td>\n",
       "      <td>0.0</td>\n",
       "      <td>245839.0</td>\n",
       "      <td>40179.0</td>\n",
       "      <td>8500.0</td>\n",
       "      <td>36826.0</td>\n",
       "      <td>N</td>\n",
       "      <td>Cash</td>\n",
       "      <td>N</td>\n",
       "    </tr>\n",
       "    <tr>\n",
       "      <th>4</th>\n",
       "      <td>67735862</td>\n",
       "      <td>16450.0</td>\n",
       "      <td>16450.0</td>\n",
       "      <td>16300.0</td>\n",
       "      <td>60</td>\n",
       "      <td>24.99</td>\n",
       "      <td>482.74</td>\n",
       "      <td>F</td>\n",
       "      <td>F4</td>\n",
       "      <td>driver / video photo</td>\n",
       "      <td>...</td>\n",
       "      <td>100.0</td>\n",
       "      <td>0.0</td>\n",
       "      <td>0.0</td>\n",
       "      <td>64735.0</td>\n",
       "      <td>52838.0</td>\n",
       "      <td>4800.0</td>\n",
       "      <td>59635.0</td>\n",
       "      <td>N</td>\n",
       "      <td>Cash</td>\n",
       "      <td>N</td>\n",
       "    </tr>\n",
       "  </tbody>\n",
       "</table>\n",
       "<p>5 rows × 92 columns</p>\n",
       "</div>"
      ],
      "text/plain": [
       "         id  loan_amnt  funded_amnt  funded_amnt_inv  term  int_rate  \\\n",
       "0  68072182    22900.0      22900.0          22900.0    60     16.59   \n",
       "1  67838439    35000.0      35000.0          35000.0    36     12.59   \n",
       "2  67988290    30000.0      30000.0          30000.0    36     13.67   \n",
       "3  67735877     6000.0       6000.0           6000.0    36     11.99   \n",
       "4  67735862    16450.0      16450.0          16300.0    60     24.99   \n",
       "\n",
       "   installment grade sub_grade                   emp_title  ...  \\\n",
       "0       564.09     D        D2  Director Accounting Policy  ...   \n",
       "1      1172.39     C        C2            Clinical Manager  ...   \n",
       "2      1020.53     C        C4                Informatica   ...   \n",
       "3       199.26     C        C1    Head of Human Resources   ...   \n",
       "4       482.74     F        F4       driver / video photo   ...   \n",
       "\n",
       "   percent_bc_gt_75 pub_rec_bankruptcies  tax_liens tot_hi_cred_lim  \\\n",
       "0              75.0                  0.0        0.0         69800.0   \n",
       "1              28.6                  0.0        0.0        444838.0   \n",
       "2             100.0                  0.0        0.0        264678.0   \n",
       "3               0.0                  0.0        0.0        245839.0   \n",
       "4             100.0                  0.0        0.0         64735.0   \n",
       "\n",
       "  total_bal_ex_mort total_bc_limit total_il_high_credit_limit hardship_flag  \\\n",
       "0           56778.0        33600.0                    35000.0             N   \n",
       "1          102508.0        56600.0                    63930.0             N   \n",
       "2           51569.0         9000.0                    47620.0             N   \n",
       "3           40179.0         8500.0                    36826.0             N   \n",
       "4           52838.0         4800.0                    59635.0             N   \n",
       "\n",
       "  disbursement_method debt_settlement_flag  \n",
       "0                Cash                    N  \n",
       "1                Cash                    N  \n",
       "2                Cash                    N  \n",
       "3                Cash                    N  \n",
       "4                Cash                    N  \n",
       "\n",
       "[5 rows x 92 columns]"
      ]
     },
     "execution_count": 16,
     "metadata": {},
     "output_type": "execute_result"
    }
   ],
   "source": [
    "# Drop unnecessary column(s) and assign to new dataframe that represents our authentic dataset\n",
    "authentic_df = df.drop(['url'], axis=1)\n",
    "authentic_df.head()"
   ]
  },
  {
   "cell_type": "markdown",
   "metadata": {},
   "source": [
    "## Exploratory data analysis"
   ]
  },
  {
   "cell_type": "code",
   "execution_count": 17,
   "metadata": {},
   "outputs": [
    {
     "data": {
      "text/plain": [
       "[Text(0, 0, '488'),\n",
       " Text(0, 0, '366'),\n",
       " Text(0, 0, '127'),\n",
       " Text(0, 0, '10'),\n",
       " Text(0, 0, '4'),\n",
       " Text(0, 0, '2'),\n",
       " Text(0, 0, '2'),\n",
       " Text(0, 0, '1')]"
      ]
     },
     "execution_count": 17,
     "metadata": {},
     "output_type": "execute_result"
    },
    {
     "data": {
      "image/png": "[encoded data removed]",
      "text/plain": [
       "<Figure size 640x480 with 1 Axes>"
      ]
     },
     "metadata": {},
     "output_type": "display_data"
    }
   ],
   "source": [
    "# Set a new variable for the purpose of displaying the value counts of 'loan_status'\n",
    "loan_status_vis = authentic_df['loan_status'].value_counts()\n",
    "\n",
    "# Plot the value counts\n",
    "ax = sns.barplot(y=loan_status_vis.index, x=loan_status_vis)\n",
    "plt.ylabel('Loan Status', fontsize=15)\n",
    "plt.xlabel('Count', fontsize=15)\n",
    "plt.title('Authentic Data Set')\n",
    "\n",
    "# Display values in each bar\n",
    "ax.bar_label(ax.containers[0])"
   ]
  },
  {
   "cell_type": "markdown",
   "metadata": {},
   "source": [
    "SDV GaussianCopula\n",
    "--------------------------\n"
   ]
  },
  {
   "cell_type": "code",
   "execution_count": 18,
   "metadata": {},
   "outputs": [],
   "source": [
    "from sdv.metadata import SingleTableMetadata\n",
    "\n",
    "metadata = SingleTableMetadata()\n",
    "\n",
    "# Attempt to auto-detect metadata\n",
    "metadata.detect_from_dataframe(data=authentic_df)"
   ]
  },
  {
   "cell_type": "code",
   "execution_count": 19,
   "metadata": {},
   "outputs": [
    {
     "data": {
      "text/plain": [
       "{'METADATA_SPEC_VERSION': 'SINGLE_TABLE_V1',\n",
       " 'primary_key': 'id',\n",
       " 'columns': {'id': {'sdtype': 'id'},\n",
       "  'loan_amnt': {'sdtype': 'numerical'},\n",
       "  'funded_amnt': {'sdtype': 'numerical'},\n",
       "  'funded_amnt_inv': {'sdtype': 'numerical'},\n",
       "  'term': {'sdtype': 'categorical'},\n",
       "  'int_rate': {'sdtype': 'numerical'},\n",
       "  'installment': {'sdtype': 'numerical'},\n",
       "  'grade': {'sdtype': 'categorical'},\n",
       "  'sub_grade': {'sdtype': 'categorical'},\n",
       "  'emp_title': {'sdtype': 'unknown', 'pii': True},\n",
       "  'emp_length': {'sdtype': 'numerical'},\n",
       "  'home_ownership': {'sdtype': 'categorical'},\n",
       "  'annual_inc': {'sdtype': 'numerical'},\n",
       "  'verification_status': {'sdtype': 'categorical'},\n",
       "  'issue_d': {'sdtype': 'categorical'},\n",
       "  'loan_status': {'sdtype': 'categorical'},\n",
       "  'pymnt_plan': {'sdtype': 'categorical'},\n",
       "  'purpose': {'sdtype': 'categorical'},\n",
       "  'title': {'sdtype': 'categorical'},\n",
       "  'zip_code': {'sdtype': 'unknown', 'pii': True},\n",
       "  'addr_state': {'sdtype': 'categorical'},\n",
       "  'dti': {'sdtype': 'numerical'},\n",
       "  'delinq_2yrs': {'sdtype': 'categorical'},\n",
       "  'earliest_cr_line': {'sdtype': 'unknown', 'pii': True},\n",
       "  'fico_range_low': {'sdtype': 'numerical'},\n",
       "  'fico_range_high': {'sdtype': 'numerical'},\n",
       "  'inq_last_6mths': {'sdtype': 'categorical'},\n",
       "  'open_acc': {'sdtype': 'numerical'},\n",
       "  'pub_rec': {'sdtype': 'categorical'},\n",
       "  'revol_bal': {'sdtype': 'numerical'},\n",
       "  'revol_util': {'sdtype': 'numerical'},\n",
       "  'total_acc': {'sdtype': 'numerical'},\n",
       "  'initial_list_status': {'sdtype': 'categorical'},\n",
       "  'out_prncp': {'sdtype': 'numerical'},\n",
       "  'out_prncp_inv': {'sdtype': 'numerical'},\n",
       "  'total_pymnt': {'sdtype': 'numerical'},\n",
       "  'total_pymnt_inv': {'sdtype': 'numerical'},\n",
       "  'total_rec_prncp': {'sdtype': 'numerical'},\n",
       "  'total_rec_int': {'sdtype': 'numerical'},\n",
       "  'total_rec_late_fee': {'sdtype': 'numerical'},\n",
       "  'recoveries': {'sdtype': 'numerical'},\n",
       "  'collection_recovery_fee': {'sdtype': 'numerical'},\n",
       "  'last_pymnt_d': {'sdtype': 'categorical'},\n",
       "  'last_pymnt_amnt': {'sdtype': 'numerical'},\n",
       "  'last_credit_pull_d': {'sdtype': 'categorical'},\n",
       "  'last_fico_range_high': {'sdtype': 'numerical'},\n",
       "  'last_fico_range_low': {'sdtype': 'numerical'},\n",
       "  'collections_12_mths_ex_med': {'sdtype': 'categorical'},\n",
       "  'policy_code': {'sdtype': 'categorical'},\n",
       "  'application_type': {'sdtype': 'categorical'},\n",
       "  'acc_now_delinq': {'sdtype': 'categorical'},\n",
       "  'tot_coll_amt': {'sdtype': 'numerical'},\n",
       "  'tot_cur_bal': {'sdtype': 'numerical'},\n",
       "  'total_rev_hi_lim': {'sdtype': 'numerical'},\n",
       "  'acc_open_past_24mths': {'sdtype': 'numerical'},\n",
       "  'avg_cur_bal': {'sdtype': 'numerical'},\n",
       "  'bc_open_to_buy': {'sdtype': 'numerical'},\n",
       "  'bc_util': {'sdtype': 'numerical'},\n",
       "  'chargeoff_within_12_mths': {'sdtype': 'categorical'},\n",
       "  'delinq_amnt': {'sdtype': 'categorical'},\n",
       "  'mo_sin_old_il_acct': {'sdtype': 'numerical'},\n",
       "  'mo_sin_old_rev_tl_op': {'sdtype': 'numerical'},\n",
       "  'mo_sin_rcnt_rev_tl_op': {'sdtype': 'numerical'},\n",
       "  'mo_sin_rcnt_tl': {'sdtype': 'numerical'},\n",
       "  'mort_acc': {'sdtype': 'numerical'},\n",
       "  'mths_since_recent_bc': {'sdtype': 'numerical'},\n",
       "  'mths_since_recent_inq': {'sdtype': 'numerical'},\n",
       "  'num_accts_ever_120_pd': {'sdtype': 'numerical'},\n",
       "  'num_actv_bc_tl': {'sdtype': 'numerical'},\n",
       "  'num_actv_rev_tl': {'sdtype': 'numerical'},\n",
       "  'num_bc_sats': {'sdtype': 'numerical'},\n",
       "  'num_bc_tl': {'sdtype': 'numerical'},\n",
       "  'num_il_tl': {'sdtype': 'numerical'},\n",
       "  'num_op_rev_tl': {'sdtype': 'numerical'},\n",
       "  'num_rev_accts': {'sdtype': 'numerical'},\n",
       "  'num_rev_tl_bal_gt_0': {'sdtype': 'numerical'},\n",
       "  'num_sats': {'sdtype': 'numerical'},\n",
       "  'num_tl_120dpd_2m': {'sdtype': 'categorical'},\n",
       "  'num_tl_30dpd': {'sdtype': 'categorical'},\n",
       "  'num_tl_90g_dpd_24m': {'sdtype': 'categorical'},\n",
       "  'num_tl_op_past_12m': {'sdtype': 'numerical'},\n",
       "  'pct_tl_nvr_dlq': {'sdtype': 'numerical'},\n",
       "  'percent_bc_gt_75': {'sdtype': 'numerical'},\n",
       "  'pub_rec_bankruptcies': {'sdtype': 'categorical'},\n",
       "  'tax_liens': {'sdtype': 'categorical'},\n",
       "  'tot_hi_cred_lim': {'sdtype': 'numerical'},\n",
       "  'total_bal_ex_mort': {'sdtype': 'numerical'},\n",
       "  'total_bc_limit': {'sdtype': 'numerical'},\n",
       "  'total_il_high_credit_limit': {'sdtype': 'numerical'},\n",
       "  'hardship_flag': {'sdtype': 'categorical'},\n",
       "  'disbursement_method': {'sdtype': 'categorical'},\n",
       "  'debt_settlement_flag': {'sdtype': 'categorical'}}}"
      ]
     },
     "execution_count": 19,
     "metadata": {},
     "output_type": "execute_result"
    }
   ],
   "source": [
    "metadata.to_dict()"
   ]
  },
  {
   "cell_type": "code",
   "execution_count": 20,
   "metadata": {},
   "outputs": [
    {
     "data": {
      "image/svg+xml": "<?xml version=\"1.0\" encoding=\"UTF-8\" standalone=\"no\"?>\n<!DOCTYPE svg PUBLIC \"-//W3C//DTD SVG 1.1//EN\"\n \"http://www.w3.org/Graphics/SVG/1.1/DTD/svg11.dtd\">\n<!-- Generated by graphviz version 9.0.0 (20230911.1827)\n -->\n<!-- Title: Metadata Pages: 1 -->\n<svg width=\"132pt\" height=\"124pt\"\n viewBox=\"0.00 0.00 132.00 124.00\" xmlns=\"http://www.w3.org/2000/svg\" xmlns:xlink=\"http://www.w3.org/1999/xlink\">\n<g id=\"graph0\" class=\"graph\" transform=\"scale(1 1) rotate(0) translate(4 120)\">\n<title>Metadata</title>\n<polygon fill=\"white\" stroke=\"none\" points=\"-4,4 -4,-120 128,-120 128,4 -4,4\"/>\n<g id=\"node1\" class=\"node\">\n<title></title>\n<path fill=\"#ffec8b\" stroke=\"black\" d=\"M12,-0.5C12,-0.5 112,-0.5 112,-0.5 118,-0.5 124,-6.5 124,-12.5 124,-12.5 124,-103.5 124,-103.5 124,-109.5 118,-115.5 112,-115.5 112,-115.5 12,-115.5 12,-115.5 6,-115.5 0,-109.5 0,-103.5 0,-103.5 0,-12.5 0,-12.5 0,-6.5 6,-0.5 12,-0.5\"/>\n<text text-anchor=\"start\" x=\"8\" y=\"-98.2\" font-family=\"Times,serif\" font-size=\"14.00\">Columns</text>\n<text text-anchor=\"start\" x=\"8\" y=\"-81.7\" font-family=\"Times,serif\" font-size=\"14.00\">    • categorical : 31</text>\n<text text-anchor=\"start\" x=\"8\" y=\"-65.2\" font-family=\"Times,serif\" font-size=\"14.00\">    • id : 1</text>\n<text text-anchor=\"start\" x=\"8\" y=\"-48.7\" font-family=\"Times,serif\" font-size=\"14.00\">    • numerical : 57</text>\n<text text-anchor=\"start\" x=\"8\" y=\"-32.2\" font-family=\"Times,serif\" font-size=\"14.00\">    • other : 3</text>\n<polyline fill=\"none\" stroke=\"black\" points=\"0,-25 124,-25\"/>\n<text text-anchor=\"start\" x=\"8\" y=\"-7.7\" font-family=\"Times,serif\" font-size=\"14.00\">Primary key: id</text>\n</g>\n</g>\n</svg>\n",
      "text/plain": [
       "<graphviz.graphs.Digraph at 0x2a3326650>"
      ]
     },
     "execution_count": 20,
     "metadata": {},
     "output_type": "execute_result"
    }
   ],
   "source": [
    "# Render a summarized view of the metadata.\n",
    "# NOTE: This requires GraphViz to be in your system's PATH\n",
    "metadata.visualize(\n",
    "    show_table_details='summarized',\n",
    "    output_filepath='data/output_metadata.png'\n",
    ")"
   ]
  },
  {
   "cell_type": "code",
   "execution_count": 21,
   "metadata": {},
   "outputs": [
    {
     "name": "stderr",
     "output_type": "stream",
     "text": [
      "/Users/duc/Library/Python/3.11/lib/python/site-packages/rdt/transformers/numerical.py:112: UserWarning: No rounding scheme detected for column 'total_pymnt'. Data will not be rounded.\n",
      "  warnings.warn(\n",
      "/Users/duc/Library/Python/3.11/lib/python/site-packages/rdt/transformers/numerical.py:112: UserWarning: No rounding scheme detected for column 'total_rec_late_fee'. Data will not be rounded.\n",
      "  warnings.warn(\n",
      "/Users/duc/Library/Python/3.11/lib/python/site-packages/rdt/transformers/numerical.py:112: UserWarning: No rounding scheme detected for column 'collection_recovery_fee'. Data will not be rounded.\n",
      "  warnings.warn(\n"
     ]
    }
   ],
   "source": [
    "# Use the Gaussian Copula algorithm to learn our input dataset\n",
    "from sdv.single_table import GaussianCopulaSynthesizer\n",
    "synthesizer = GaussianCopulaSynthesizer(metadata)\n",
    "synthesizer.fit(authentic_df)"
   ]
  },
  {
   "cell_type": "code",
   "execution_count": 22,
   "metadata": {},
   "outputs": [],
   "source": [
    "synthesizer.save('models/gaussian_copula_learned_model.pkl')"
   ]
  },
  {
   "cell_type": "code",
   "execution_count": 23,
   "metadata": {},
   "outputs": [],
   "source": [
    "loaded_model = GaussianCopulaSynthesizer.load('models/gaussian_copula_learned_model.pkl')"
   ]
  },
  {
   "cell_type": "markdown",
   "metadata": {},
   "source": [
    "### Generate synthetic data from model"
   ]
  },
  {
   "cell_type": "code",
   "execution_count": 24,
   "metadata": {
    "attributes": {
     "classes": [
      ""
     ],
     "id": ""
    }
   },
   "outputs": [],
   "source": [
    "synthetic_df = synthesizer.sample(len(authentic_df))"
   ]
  },
  {
   "cell_type": "code",
   "execution_count": 25,
   "metadata": {},
   "outputs": [
    {
     "data": {
      "text/html": [
       "<div>\n",
       "<style scoped>\n",
       "    .dataframe tbody tr th:only-of-type {\n",
       "        vertical-align: middle;\n",
       "    }\n",
       "\n",
       "    .dataframe tbody tr th {\n",
       "        vertical-align: top;\n",
       "    }\n",
       "\n",
       "    .dataframe thead th {\n",
       "        text-align: right;\n",
       "    }\n",
       "</style>\n",
       "<table border=\"1\" class=\"dataframe\">\n",
       "  <thead>\n",
       "    <tr style=\"text-align: right;\">\n",
       "      <th></th>\n",
       "      <th>id</th>\n",
       "      <th>loan_amnt</th>\n",
       "      <th>funded_amnt</th>\n",
       "      <th>funded_amnt_inv</th>\n",
       "      <th>term</th>\n",
       "      <th>int_rate</th>\n",
       "      <th>installment</th>\n",
       "      <th>grade</th>\n",
       "      <th>sub_grade</th>\n",
       "      <th>emp_title</th>\n",
       "      <th>...</th>\n",
       "      <th>percent_bc_gt_75</th>\n",
       "      <th>pub_rec_bankruptcies</th>\n",
       "      <th>tax_liens</th>\n",
       "      <th>tot_hi_cred_lim</th>\n",
       "      <th>total_bal_ex_mort</th>\n",
       "      <th>total_bc_limit</th>\n",
       "      <th>total_il_high_credit_limit</th>\n",
       "      <th>hardship_flag</th>\n",
       "      <th>disbursement_method</th>\n",
       "      <th>debt_settlement_flag</th>\n",
       "    </tr>\n",
       "  </thead>\n",
       "  <tbody>\n",
       "    <tr>\n",
       "      <th>0</th>\n",
       "      <td>0</td>\n",
       "      <td>13773.0</td>\n",
       "      <td>13768.0</td>\n",
       "      <td>12481.745054</td>\n",
       "      <td>60</td>\n",
       "      <td>13.65</td>\n",
       "      <td>288.62</td>\n",
       "      <td>D</td>\n",
       "      <td>B4</td>\n",
       "      <td>sdv-pii-a0ef0</td>\n",
       "      <td>...</td>\n",
       "      <td>79.7</td>\n",
       "      <td>0.0</td>\n",
       "      <td>0.0</td>\n",
       "      <td>161031.0</td>\n",
       "      <td>NaN</td>\n",
       "      <td>33833.0</td>\n",
       "      <td>NaN</td>\n",
       "      <td>N</td>\n",
       "      <td>Cash</td>\n",
       "      <td>N</td>\n",
       "    </tr>\n",
       "    <tr>\n",
       "      <th>1</th>\n",
       "      <td>1</td>\n",
       "      <td>19615.0</td>\n",
       "      <td>19608.0</td>\n",
       "      <td>21044.309604</td>\n",
       "      <td>36</td>\n",
       "      <td>10.58</td>\n",
       "      <td>706.50</td>\n",
       "      <td>B</td>\n",
       "      <td>A5</td>\n",
       "      <td>sdv-pii-pe4mc</td>\n",
       "      <td>...</td>\n",
       "      <td>32.1</td>\n",
       "      <td>1.0</td>\n",
       "      <td>0.0</td>\n",
       "      <td>495342.0</td>\n",
       "      <td>126752.0</td>\n",
       "      <td>36407.0</td>\n",
       "      <td>109515.0</td>\n",
       "      <td>N</td>\n",
       "      <td>Cash</td>\n",
       "      <td>N</td>\n",
       "    </tr>\n",
       "    <tr>\n",
       "      <th>2</th>\n",
       "      <td>2</td>\n",
       "      <td>6545.0</td>\n",
       "      <td>6547.0</td>\n",
       "      <td>5279.067344</td>\n",
       "      <td>36</td>\n",
       "      <td>9.80</td>\n",
       "      <td>158.19</td>\n",
       "      <td>A</td>\n",
       "      <td>B5</td>\n",
       "      <td>sdv-pii-4go1q</td>\n",
       "      <td>...</td>\n",
       "      <td>0.2</td>\n",
       "      <td>0.0</td>\n",
       "      <td>0.0</td>\n",
       "      <td>33325.0</td>\n",
       "      <td>17755.0</td>\n",
       "      <td>15500.0</td>\n",
       "      <td>43644.0</td>\n",
       "      <td>N</td>\n",
       "      <td>Cash</td>\n",
       "      <td>N</td>\n",
       "    </tr>\n",
       "    <tr>\n",
       "      <th>3</th>\n",
       "      <td>3</td>\n",
       "      <td>24829.0</td>\n",
       "      <td>24817.0</td>\n",
       "      <td>24400.569693</td>\n",
       "      <td>60</td>\n",
       "      <td>14.41</td>\n",
       "      <td>603.90</td>\n",
       "      <td>B</td>\n",
       "      <td>A5</td>\n",
       "      <td>sdv-pii-8kgmy</td>\n",
       "      <td>...</td>\n",
       "      <td>20.5</td>\n",
       "      <td>0.0</td>\n",
       "      <td>0.0</td>\n",
       "      <td>138810.0</td>\n",
       "      <td>40028.0</td>\n",
       "      <td>28290.0</td>\n",
       "      <td>NaN</td>\n",
       "      <td>N</td>\n",
       "      <td>Cash</td>\n",
       "      <td>N</td>\n",
       "    </tr>\n",
       "    <tr>\n",
       "      <th>4</th>\n",
       "      <td>4</td>\n",
       "      <td>7957.0</td>\n",
       "      <td>7957.0</td>\n",
       "      <td>7109.049540</td>\n",
       "      <td>60</td>\n",
       "      <td>17.51</td>\n",
       "      <td>199.62</td>\n",
       "      <td>C</td>\n",
       "      <td>C1</td>\n",
       "      <td>NaN</td>\n",
       "      <td>...</td>\n",
       "      <td>20.5</td>\n",
       "      <td>0.0</td>\n",
       "      <td>0.0</td>\n",
       "      <td>41232.0</td>\n",
       "      <td>28351.0</td>\n",
       "      <td>95.0</td>\n",
       "      <td>52565.0</td>\n",
       "      <td>N</td>\n",
       "      <td>Cash</td>\n",
       "      <td>N</td>\n",
       "    </tr>\n",
       "  </tbody>\n",
       "</table>\n",
       "<p>5 rows × 92 columns</p>\n",
       "</div>"
      ],
      "text/plain": [
       "   id  loan_amnt  funded_amnt  funded_amnt_inv  term  int_rate  installment  \\\n",
       "0   0    13773.0      13768.0     12481.745054    60     13.65       288.62   \n",
       "1   1    19615.0      19608.0     21044.309604    36     10.58       706.50   \n",
       "2   2     6545.0       6547.0      5279.067344    36      9.80       158.19   \n",
       "3   3    24829.0      24817.0     24400.569693    60     14.41       603.90   \n",
       "4   4     7957.0       7957.0      7109.049540    60     17.51       199.62   \n",
       "\n",
       "  grade sub_grade      emp_title  ...  percent_bc_gt_75 pub_rec_bankruptcies  \\\n",
       "0     D        B4  sdv-pii-a0ef0  ...              79.7                  0.0   \n",
       "1     B        A5  sdv-pii-pe4mc  ...              32.1                  1.0   \n",
       "2     A        B5  sdv-pii-4go1q  ...               0.2                  0.0   \n",
       "3     B        A5  sdv-pii-8kgmy  ...              20.5                  0.0   \n",
       "4     C        C1            NaN  ...              20.5                  0.0   \n",
       "\n",
       "   tax_liens tot_hi_cred_lim total_bal_ex_mort total_bc_limit  \\\n",
       "0        0.0        161031.0               NaN        33833.0   \n",
       "1        0.0        495342.0          126752.0        36407.0   \n",
       "2        0.0         33325.0           17755.0        15500.0   \n",
       "3        0.0        138810.0           40028.0        28290.0   \n",
       "4        0.0         41232.0           28351.0           95.0   \n",
       "\n",
       "  total_il_high_credit_limit hardship_flag disbursement_method  \\\n",
       "0                        NaN             N                Cash   \n",
       "1                   109515.0             N                Cash   \n",
       "2                    43644.0             N                Cash   \n",
       "3                        NaN             N                Cash   \n",
       "4                    52565.0             N                Cash   \n",
       "\n",
       "  debt_settlement_flag  \n",
       "0                    N  \n",
       "1                    N  \n",
       "2                    N  \n",
       "3                    N  \n",
       "4                    N  \n",
       "\n",
       "[5 rows x 92 columns]"
      ]
     },
     "execution_count": 25,
     "metadata": {},
     "output_type": "execute_result"
    }
   ],
   "source": [
    "synthetic_df.head()"
   ]
  },
  {
   "cell_type": "code",
   "execution_count": 26,
   "metadata": {},
   "outputs": [
    {
     "data": {
      "text/plain": [
       "[Text(0, 0, '505'),\n",
       " Text(0, 0, '364'),\n",
       " Text(0, 0, '107'),\n",
       " Text(0, 0, '14'),\n",
       " Text(0, 0, '3'),\n",
       " Text(0, 0, '3'),\n",
       " Text(0, 0, '3'),\n",
       " Text(0, 0, '1')]"
      ]
     },
     "execution_count": 26,
     "metadata": {},
     "output_type": "execute_result"
    },
    {
     "data": {
      "image/png": "[encoded data removed]",
      "text/plain": [
       "<Figure size 640x480 with 1 Axes>"
      ]
     },
     "metadata": {},
     "output_type": "display_data"
    }
   ],
   "source": [
    "synthetic_loan_status_vis = synthetic_df['loan_status'].value_counts()\n",
    "\n",
    "# Plot the value counts\n",
    "ax = sns.barplot(y=synthetic_loan_status_vis.index, x=synthetic_loan_status_vis)\n",
    "plt.ylabel('Loan Status', fontsize=15)\n",
    "plt.xlabel('Count', fontsize=15)\n",
    "plt.title('Synthetic Data Set')\n",
    "\n",
    "ax.bar_label(ax.containers[0])"
   ]
  },
  {
   "cell_type": "markdown",
   "metadata": {},
   "source": [
    "Compare the breakdown of loan statuses from the generated synthetic data set against those of the authentic data set.  There should be some congruency between the two."
   ]
  },
  {
   "cell_type": "code",
   "execution_count": 27,
   "metadata": {},
   "outputs": [
    {
     "name": "stdout",
     "output_type": "stream",
     "text": [
      "Generating report ...\n",
      "(1/2) Evaluating Column Shapes: : 100%|██████████| 92/92 [00:00<00:00, 1414.57it/s]\n",
      "(2/2) Evaluating Column Pair Trends: : 100%|██████████| 4186/4186 [00:18<00:00, 229.58it/s]\n",
      "\n",
      "Overall Quality Score: 88.14%\n",
      "\n",
      "Properties:\n",
      "- Column Shapes: 88.99%\n",
      "- Column Pair Trends: 87.29%\n"
     ]
    }
   ],
   "source": [
    "from sdv.evaluation.single_table import evaluate_quality\n",
    "\n",
    "quality_report = evaluate_quality(\n",
    "    real_data=authentic_df,\n",
    "    synthetic_data=synthetic_df,\n",
    "    metadata=metadata)"
   ]
  },
  {
   "cell_type": "code",
   "execution_count": 28,
   "metadata": {},
   "outputs": [],
   "source": [
    "synthetic_df.to_csv('data/output_synthetic_data_via_gaussian.csv', index=False)"
   ]
  }
 ],
 "metadata": {
  "kernelspec": {
   "display_name": "Python 3.11.4 64-bit",
   "language": "python",
   "name": "python3"
  },
  "language_info": {
   "codemirror_mode": {
    "name": "ipython",
    "version": 3
   },
   "file_extension": ".py",
   "mimetype": "text/x-python",
   "name": "python",
   "nbconvert_exporter": "python",
   "pygments_lexer": "ipython3",
   "version": "3.11.6"
  },
  "vscode": {
   "interpreter": {
    "hash": "b0fa6594d8f4cbf19f97940f81e996739fb7646882a419484c72d19e05852a7e"
   }
  }
 },
 "nbformat": 4,
 "nbformat_minor": 4
}
